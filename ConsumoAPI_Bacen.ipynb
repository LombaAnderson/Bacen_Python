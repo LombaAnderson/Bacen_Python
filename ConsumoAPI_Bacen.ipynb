{
 "cells": [
  {
   "cell_type": "code",
   "execution_count": 3,
   "metadata": {},
   "outputs": [],
   "source": [
    "import pandas as pd\n",
    "import numpy as np"
   ]
  },
  {
   "cell_type": "code",
   "execution_count": 4,
   "metadata": {},
   "outputs": [
    {
     "data": {
      "text/html": [
       "<div>\n",
       "<style scoped>\n",
       "    .dataframe tbody tr th:only-of-type {\n",
       "        vertical-align: middle;\n",
       "    }\n",
       "\n",
       "    .dataframe tbody tr th {\n",
       "        vertical-align: top;\n",
       "    }\n",
       "\n",
       "    .dataframe thead th {\n",
       "        text-align: right;\n",
       "    }\n",
       "</style>\n",
       "<table border=\"1\" class=\"dataframe\">\n",
       "  <thead>\n",
       "    <tr style=\"text-align: right;\">\n",
       "      <th></th>\n",
       "      <th>Cód</th>\n",
       "      <th>Nome abreviado</th>\n",
       "    </tr>\n",
       "  </thead>\n",
       "  <tbody>\n",
       "    <tr>\n",
       "      <th>0</th>\n",
       "      <td>12</td>\n",
       "      <td>CDI</td>\n",
       "    </tr>\n",
       "    <tr>\n",
       "      <th>1</th>\n",
       "      <td>11</td>\n",
       "      <td>Selic</td>\n",
       "    </tr>\n",
       "    <tr>\n",
       "      <th>2</th>\n",
       "      <td>189</td>\n",
       "      <td>IGPM</td>\n",
       "    </tr>\n",
       "  </tbody>\n",
       "</table>\n",
       "</div>"
      ],
      "text/plain": [
       "   Cód Nome abreviado\n",
       "0   12            CDI\n",
       "1   11          Selic\n",
       "2  189           IGPM"
      ]
     },
     "execution_count": 4,
     "metadata": {},
     "output_type": "execute_result"
    }
   ],
   "source": [
    "df_cod_series=pd.read_excel('cod_series.xlsx') \n",
    "df_cod_series"
   ]
  },
  {
   "cell_type": "code",
   "execution_count": 5,
   "metadata": {},
   "outputs": [
    {
     "data": {
      "text/html": [
       "<div>\n",
       "<style scoped>\n",
       "    .dataframe tbody tr th:only-of-type {\n",
       "        vertical-align: middle;\n",
       "    }\n",
       "\n",
       "    .dataframe tbody tr th {\n",
       "        vertical-align: top;\n",
       "    }\n",
       "\n",
       "    .dataframe thead th {\n",
       "        text-align: right;\n",
       "    }\n",
       "</style>\n",
       "<table border=\"1\" class=\"dataframe\">\n",
       "  <thead>\n",
       "    <tr style=\"text-align: right;\">\n",
       "      <th></th>\n",
       "      <th>data</th>\n",
       "      <th>valor</th>\n",
       "    </tr>\n",
       "  </thead>\n",
       "  <tbody>\n",
       "    <tr>\n",
       "      <th>0</th>\n",
       "      <td>06/03/1986</td>\n",
       "      <td>0.068111</td>\n",
       "    </tr>\n",
       "    <tr>\n",
       "      <th>1</th>\n",
       "      <td>10/03/1986</td>\n",
       "      <td>0.069028</td>\n",
       "    </tr>\n",
       "    <tr>\n",
       "      <th>2</th>\n",
       "      <td>12/03/1986</td>\n",
       "      <td>0.067417</td>\n",
       "    </tr>\n",
       "    <tr>\n",
       "      <th>3</th>\n",
       "      <td>14/03/1986</td>\n",
       "      <td>0.064584</td>\n",
       "    </tr>\n",
       "    <tr>\n",
       "      <th>4</th>\n",
       "      <td>17/03/1986</td>\n",
       "      <td>0.068222</td>\n",
       "    </tr>\n",
       "    <tr>\n",
       "      <th>...</th>\n",
       "      <td>...</td>\n",
       "      <td>...</td>\n",
       "    </tr>\n",
       "    <tr>\n",
       "      <th>8934</th>\n",
       "      <td>26/11/2021</td>\n",
       "      <td>0.029256</td>\n",
       "    </tr>\n",
       "    <tr>\n",
       "      <th>8935</th>\n",
       "      <td>29/11/2021</td>\n",
       "      <td>0.029256</td>\n",
       "    </tr>\n",
       "    <tr>\n",
       "      <th>8936</th>\n",
       "      <td>30/11/2021</td>\n",
       "      <td>0.029256</td>\n",
       "    </tr>\n",
       "    <tr>\n",
       "      <th>8937</th>\n",
       "      <td>01/12/2021</td>\n",
       "      <td>0.029256</td>\n",
       "    </tr>\n",
       "    <tr>\n",
       "      <th>8938</th>\n",
       "      <td>02/12/2021</td>\n",
       "      <td>0.029256</td>\n",
       "    </tr>\n",
       "  </tbody>\n",
       "</table>\n",
       "<p>8939 rows × 2 columns</p>\n",
       "</div>"
      ],
      "text/plain": [
       "            data     valor\n",
       "0     06/03/1986  0.068111\n",
       "1     10/03/1986  0.069028\n",
       "2     12/03/1986  0.067417\n",
       "3     14/03/1986  0.064584\n",
       "4     17/03/1986  0.068222\n",
       "...          ...       ...\n",
       "8934  26/11/2021  0.029256\n",
       "8935  29/11/2021  0.029256\n",
       "8936  30/11/2021  0.029256\n",
       "8937  01/12/2021  0.029256\n",
       "8938  02/12/2021  0.029256\n",
       "\n",
       "[8939 rows x 2 columns]"
      ]
     },
     "execution_count": 5,
     "metadata": {},
     "output_type": "execute_result"
    }
   ],
   "source": [
    "url='https://api.bcb.gov.br/dados/serie/bcdata.sgs.12/dados?formato=json'\n",
    "df_api=pd.read_json(url)\n",
    "df_api"
   ]
  },
  {
   "cell_type": "code",
   "execution_count": 10,
   "metadata": {},
   "outputs": [
    {
     "name": "stdout",
     "output_type": "stream",
     "text": [
      "            data     valor\n",
      "0     06/03/1986  0.068111\n",
      "1     10/03/1986  0.069028\n",
      "2     12/03/1986  0.067417\n",
      "3     14/03/1986  0.064584\n",
      "4     17/03/1986  0.068222\n",
      "...          ...       ...\n",
      "8934  26/11/2021  0.029256\n",
      "8935  29/11/2021  0.029256\n",
      "8936  30/11/2021  0.029256\n",
      "8937  01/12/2021  0.029256\n",
      "8938  02/12/2021  0.029256\n",
      "\n",
      "[8939 rows x 2 columns]\n",
      "            data     valor\n",
      "0     04/06/1986  0.065041\n",
      "1     05/06/1986  0.067397\n",
      "2     06/06/1986  0.066740\n",
      "3     09/06/1986  0.068247\n",
      "4     10/06/1986  0.067041\n",
      "...          ...       ...\n",
      "8893  29/11/2021  0.029256\n",
      "8894  30/11/2021  0.029256\n",
      "8895  01/12/2021  0.029256\n",
      "8896  02/12/2021  0.029256\n",
      "8897  03/12/2021  0.029256\n",
      "\n",
      "[8898 rows x 2 columns]\n",
      "           data  valor\n",
      "0    01/06/1989  19.68\n",
      "1    01/07/1989  35.90\n",
      "2    01/08/1989  36.92\n",
      "3    01/09/1989  39.92\n",
      "4    01/10/1989  40.64\n",
      "..          ...    ...\n",
      "385  01/07/2021   0.78\n",
      "386  01/08/2021   0.66\n",
      "387  01/09/2021  -0.64\n",
      "388  01/10/2021   0.64\n",
      "389  01/11/2021   0.02\n",
      "\n",
      "[390 rows x 2 columns]\n"
     ]
    }
   ],
   "source": [
    "for codigo in df_cod_series['Cód']:\n",
    "    url=f'https://api.bcb.gov.br/dados/serie/bcdata.sgs.{codigo}/dados?formato=json'\n",
    "    df_api=pd.read_json(url)\n",
    "    print(df_api)\n",
    "    df_api.to_excel('Indicador'+str(codigo)+'.xlsx')\n",
    "    "
   ]
  },
  {
   "cell_type": "code",
   "execution_count": 9,
   "metadata": {},
   "outputs": [],
   "source": []
  },
  {
   "cell_type": "code",
   "execution_count": null,
   "metadata": {},
   "outputs": [],
   "source": []
  }
 ],
 "metadata": {
  "kernelspec": {
   "display_name": "Python 3",
   "language": "python",
   "name": "python3"
  },
  "language_info": {
   "codemirror_mode": {
    "name": "ipython",
    "version": 3
   },
   "file_extension": ".py",
   "mimetype": "text/x-python",
   "name": "python",
   "nbconvert_exporter": "python",
   "pygments_lexer": "ipython3",
   "version": "3.7.6"
  }
 },
 "nbformat": 4,
 "nbformat_minor": 4
}
